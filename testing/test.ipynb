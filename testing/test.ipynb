{
 "cells": [
  {
   "cell_type": "code",
   "execution_count": 1,
   "id": "f974c1f3",
   "metadata": {},
   "outputs": [
    {
     "name": "stdout",
     "output_type": "stream",
     "text": [
      "tensor(-1.0736)\n"
     ]
    }
   ],
   "source": [
    "import torch\n",
    "\n",
    "# Assume self.logvar is a tensor of shape [1000]\n",
    "logvar = torch.randn(1000)  # Random log variances for illustration\n",
    "\n",
    "# Accessing logvar at index t\n",
    "t = 10\n",
    "logvar_t = logvar[t]  # Gets the log variance at position 10\n",
    "print(logvar_t)  # A scalar value (since we indexed a 1D tensor)"
   ]
  }
 ],
 "metadata": {
  "kernelspec": {
   "display_name": "sd",
   "language": "python",
   "name": "python3"
  },
  "language_info": {
   "codemirror_mode": {
    "name": "ipython",
    "version": 3
   },
   "file_extension": ".py",
   "mimetype": "text/x-python",
   "name": "python",
   "nbconvert_exporter": "python",
   "pygments_lexer": "ipython3",
   "version": "3.9.21"
  }
 },
 "nbformat": 4,
 "nbformat_minor": 5
}
